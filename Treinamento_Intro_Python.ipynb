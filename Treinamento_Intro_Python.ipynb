{
  "nbformat": 4,
  "nbformat_minor": 0,
  "metadata": {
    "colab": {
      "name": "Treinamento-Intro-Python.ipynb",
      "provenance": [],
      "collapsed_sections": []
    },
    "kernelspec": {
      "name": "python3",
      "display_name": "Python 3"
    }
  },
  "cells": [
    {
      "cell_type": "markdown",
      "metadata": {
        "id": "mDTmk_CvSEz9"
      },
      "source": [
        "# **Italo Giullian - (Neuron - Projetos)**\n",
        "\n",
        "**LinkedIn**: https://www.linkedin.com/in/italogiullian/\n",
        "\n",
        "**GitHub**: https://github.com/italoalbuq\n",
        "\n",
        "**E-mail**: italoalbuq@hotmail.com"
      ]
    },
    {
      "cell_type": "markdown",
      "metadata": {
        "id": "fSjaopjp79w6"
      },
      "source": [
        "# **INTRODUÇÃO AO PYTHON**\n",
        "## Por onde começar?"
      ]
    },
    {
      "cell_type": "markdown",
      "metadata": {
        "id": "JIYxSCu0UYQ0"
      },
      "source": [
        "# VARIÁVEIS\n",
        "\n",
        "Uma variável é um nome qualquer atribuído à uma posição da memória cujo espaço é reservado a um determinado conjunto de dados.\n",
        "\n",
        "No python, a sua declaração se dá da seguinte maneira:\n",
        "\n",
        "### var = valor\n",
        "\n",
        "Exemplos de criação de variáveis:\n",
        "\n"
      ]
    },
    {
      "cell_type": "code",
      "metadata": {
        "id": "IsX30hJTAYaN",
        "outputId": "549ccbcc-e58e-4bbb-cf5a-6c7696315144",
        "colab": {
          "base_uri": "https://localhost:8080/"
        }
      },
      "source": [
        "num = 10\n",
        "var = 'Neuron'\n",
        "\n",
        "print(num)\n",
        "print(var)"
      ],
      "execution_count": 1,
      "outputs": [
        {
          "output_type": "stream",
          "text": [
            "10\n",
            "Neuron\n"
          ],
          "name": "stdout"
        }
      ]
    },
    {
      "cell_type": "markdown",
      "metadata": {
        "id": "-Vj8-FuzAvLt"
      },
      "source": [
        "Regras de criação de variáveis:\n",
        "\n",
        "1 - A primeira letra da variável deve ser uma letra ou um underline _\n",
        "\n",
        "2 - Não pode haver espaços em seu nome.\n",
        "\n",
        "3 - Elas são “case sensitive”.\n",
        "\n",
        "Caso contrário:\n"
      ]
    },
    {
      "cell_type": "code",
      "metadata": {
        "id": "S2NIVokTC-fx",
        "outputId": "f59e0e08-7c9a-42e4-e1f2-3d21f8637db2",
        "colab": {
          "base_uri": "https://localhost:8080/",
          "height": 129
        }
      },
      "source": [
        "0nome = \"Neuron\""
      ],
      "execution_count": 2,
      "outputs": [
        {
          "output_type": "error",
          "ename": "SyntaxError",
          "evalue": "ignored",
          "traceback": [
            "\u001b[0;36m  File \u001b[0;32m\"<ipython-input-2-204b2292f270>\"\u001b[0;36m, line \u001b[0;32m1\u001b[0m\n\u001b[0;31m    0nome = \"Neuron\"\u001b[0m\n\u001b[0m        ^\u001b[0m\n\u001b[0;31mSyntaxError\u001b[0m\u001b[0;31m:\u001b[0m invalid syntax\n"
          ]
        }
      ]
    },
    {
      "cell_type": "code",
      "metadata": {
        "id": "vOZe51EsDBr1",
        "outputId": "b9e9b96a-d5ad-42c0-ffa7-13cf24098b94",
        "colab": {
          "base_uri": "https://localhost:8080/",
          "height": 129
        }
      },
      "source": [
        "nome da variavel = 'Neuron'"
      ],
      "execution_count": 3,
      "outputs": [
        {
          "output_type": "error",
          "ename": "SyntaxError",
          "evalue": "ignored",
          "traceback": [
            "\u001b[0;36m  File \u001b[0;32m\"<ipython-input-3-691bf39a7471>\"\u001b[0;36m, line \u001b[0;32m1\u001b[0m\n\u001b[0;31m    nome da variavel = 'Neuron'\u001b[0m\n\u001b[0m          ^\u001b[0m\n\u001b[0;31mSyntaxError\u001b[0m\u001b[0;31m:\u001b[0m invalid syntax\n"
          ]
        }
      ]
    },
    {
      "cell_type": "markdown",
      "metadata": {
        "id": "tlm6SEU4EtAe"
      },
      "source": [
        "## Entrada e Saída de dados\n",
        "\n",
        "Para ler dados digitados pelo usuário durante a execução do programa, utilizamos a função *input()*."
      ]
    },
    {
      "cell_type": "code",
      "metadata": {
        "id": "pNvLQpSWEolu",
        "outputId": "fbd5db23-9adc-4620-da54-f4455f7d84d9",
        "colab": {
          "base_uri": "https://localhost:8080/"
        }
      },
      "source": [
        "nome = input('Digite seu nome: ')\n",
        "\n",
        "print(\"Bem-vindo,\", nome)"
      ],
      "execution_count": 4,
      "outputs": [
        {
          "output_type": "stream",
          "text": [
            "Digite seu nome: Italo\n",
            "Bem-vindo, Italo\n"
          ],
          "name": "stdout"
        }
      ]
    },
    {
      "cell_type": "markdown",
      "metadata": {
        "id": "-SK1J_nrF4zb"
      },
      "source": [
        "A função *input()* sempre lê strings. Por isso, caso deseje ler um número, deverá converter o dado retornado por essa função para o formato numérico apropriado."
      ]
    },
    {
      "cell_type": "code",
      "metadata": {
        "id": "Wu7KuKFYGI2c",
        "outputId": "ad26343a-c2ad-4d6e-e98e-d0699d032bb9",
        "colab": {
          "base_uri": "https://localhost:8080/"
        }
      },
      "source": [
        "idade = input('Digite sua idade: ')\n",
        "print(type(idade))"
      ],
      "execution_count": 5,
      "outputs": [
        {
          "output_type": "stream",
          "text": [
            "Digite sua idade: 23\n",
            "<class 'str'>\n"
          ],
          "name": "stdout"
        }
      ]
    },
    {
      "cell_type": "markdown",
      "metadata": {
        "id": "mftEwHm6Hm9a"
      },
      "source": [
        "É possível transformar o tipo da variável por meio de funções. Por exemplo:"
      ]
    },
    {
      "cell_type": "code",
      "metadata": {
        "id": "UzhJ038tHZsp",
        "outputId": "535e4d33-83ec-4d8b-8335-c575f3120cd8",
        "colab": {
          "base_uri": "https://localhost:8080/"
        }
      },
      "source": [
        "idade = int(idade)\n",
        "\n",
        "print(idade)\n",
        "print(type(idade))"
      ],
      "execution_count": 6,
      "outputs": [
        {
          "output_type": "stream",
          "text": [
            "23\n",
            "<class 'int'>\n"
          ],
          "name": "stdout"
        }
      ]
    },
    {
      "cell_type": "code",
      "metadata": {
        "id": "dn6HuqvPHzt3",
        "outputId": "226573c7-159e-4fd9-9731-0f642746c39e",
        "colab": {
          "base_uri": "https://localhost:8080/"
        }
      },
      "source": [
        "idade = float(idade)\n",
        "\n",
        "print(idade)\n",
        "print(type(idade))"
      ],
      "execution_count": 7,
      "outputs": [
        {
          "output_type": "stream",
          "text": [
            "23.0\n",
            "<class 'float'>\n"
          ],
          "name": "stdout"
        }
      ]
    },
    {
      "cell_type": "markdown",
      "metadata": {
        "id": "ZcKhg-RtDUue"
      },
      "source": [
        "## Tipos de Variáveis\n",
        "\n",
        "De maneira geral, as variáveis são dividas em Strings, Inteiros, Reais, Booleanos. Essa divisão ocorre em virtude da natureza dos dados que serão registrados na memória."
      ]
    },
    {
      "cell_type": "code",
      "metadata": {
        "id": "IWRc4VMWDTml",
        "outputId": "f25a4fe5-754d-4d87-a590-97543ea74b8c",
        "colab": {
          "base_uri": "https://localhost:8080/"
        }
      },
      "source": [
        "nome = 'Neuron'       # string\n",
        "num1 = 10             # int\n",
        "num2 = 10.2           # float\n",
        "verdadeiro = True    # boolean\n",
        "\n",
        "print(type(nome))\n",
        "print(type(num1))\n",
        "print(type(num2))\n",
        "print(type(verdadeiro))"
      ],
      "execution_count": 8,
      "outputs": [
        {
          "output_type": "stream",
          "text": [
            "<class 'str'>\n",
            "<class 'int'>\n",
            "<class 'float'>\n",
            "<class 'bool'>\n"
          ],
          "name": "stdout"
        }
      ]
    },
    {
      "cell_type": "markdown",
      "metadata": {
        "id": "AGwIEkgyKHOy"
      },
      "source": [
        "# OPERADORES\n",
        "\n",
        "Para realizarmos as operações no python usamos os operadores, eles nos permitem realizar operações matemáticas e operações lógicas, abrindo assim um grupo enorme de possibilidades.\n"
      ]
    },
    {
      "cell_type": "markdown",
      "metadata": {
        "id": "mBZ_dmDTMWxh"
      },
      "source": [
        "## - Operadores Aritméticos\n",
        "- Somar (+)\n",
        "- Subtrair (-)\n",
        "- Multiplicar (*)\n",
        "- Dividir (/)\n",
        "- Exponenciação (**)\n",
        "- Parte inteira (//)\n",
        "- Resto da divisão (%)"
      ]
    },
    {
      "cell_type": "code",
      "metadata": {
        "id": "QZADgcMJOLKN",
        "outputId": "f20533a2-f86a-45f4-94e3-cf5f935d3f20",
        "colab": {
          "base_uri": "https://localhost:8080/"
        }
      },
      "source": [
        "A = 3\n",
        "B = 6\n",
        "\n",
        "print(\"A soma de (A + B) é:\", A+B)\n",
        "print(\"A subtração de (A - B) é:\", A-B)\n",
        "print(\"A multiplicação de (A x B) é:\", A*B)\n",
        "print(\"A divisão de (B / A) é:\", B/A)\n",
        "print(\"A ao quadrado é:\", A**2)\n",
        "print(\"A parte inteira de (10 / 8) é:\", 10//8)\n",
        "print(\"O resto da divisão de (10 / 8) é:\", 10%8)"
      ],
      "execution_count": 9,
      "outputs": [
        {
          "output_type": "stream",
          "text": [
            "A soma de (A + B) é: 9\n",
            "A subtração de (A - B) é: -3\n",
            "A multiplicação de (A x B) é: 18\n",
            "A divisão de (B / A) é: 2.0\n",
            "A ao quadrado é: 9\n",
            "A parte inteira de (10 / 8) é: 1\n",
            "O resto da divisão de (10 / 8) é: 2\n"
          ],
          "name": "stdout"
        }
      ]
    },
    {
      "cell_type": "markdown",
      "metadata": {
        "id": "1Luergg-Irxg"
      },
      "source": [
        "As expressões contidas em parênteses têm a precedência maior em Python\n",
        "\n",
        "Após os parênteses, o próximo operador com maior precedência é o de exponenciação\n",
        "\n",
        "Multiplicação e divisão têm precedência sobre a adição e subtração."
      ]
    },
    {
      "cell_type": "code",
      "metadata": {
        "id": "xQ07c_ZxIuCf",
        "outputId": "fd534dca-d5f9-4100-d56c-5f8f99a15ccd",
        "colab": {
          "base_uri": "https://localhost:8080/"
        }
      },
      "source": [
        "print(2 + 5 * 3) #17\n",
        "\n",
        "print((2 + 5) * 3) #21\n",
        "\n",
        "print(2 + 3**2) #11"
      ],
      "execution_count": 10,
      "outputs": [
        {
          "output_type": "stream",
          "text": [
            "17\n",
            "21\n",
            "11\n"
          ],
          "name": "stdout"
        }
      ]
    },
    {
      "cell_type": "markdown",
      "metadata": {
        "id": "TTh381AFKTvo"
      },
      "source": [
        "## - Operadores de Atribuição\n",
        "\n",
        "Atribuem valor a uma variável.\n",
        "\n",
        "- =\n",
        "- +=\n",
        "- -=\n",
        "- *=\n",
        "- /=\n",
        "- %="
      ]
    },
    {
      "cell_type": "code",
      "metadata": {
        "id": "ibV-BZ1_KlXd",
        "outputId": "f684a32c-cdeb-4e24-cdcd-d941aec9274d",
        "colab": {
          "base_uri": "https://localhost:8080/"
        }
      },
      "source": [
        "x = 1\n",
        "print('x = ', x)\n",
        "\n",
        "x += 1                  # ou (x = x + 1)\n",
        "print (x, '= x + 1')\n",
        "\n",
        "x -= 1                  # ou (x = x - 1)\n",
        "print (x, '= x - 1')\n",
        "\n",
        "x *= 1                  # ou (x = x * 1)\n",
        "print (x, '= x * 1')\n",
        "\n",
        "x /= 1                  # ou (x = x / 1)\n",
        "print (x, '= x / 1')\n",
        "\n",
        "x %= 1                  # ou (x = x % 1)\n",
        "print (x, '= x % 1')"
      ],
      "execution_count": 11,
      "outputs": [
        {
          "output_type": "stream",
          "text": [
            "x =  1\n",
            "2 = x + 1\n",
            "1 = x - 1\n",
            "1 = x * 1\n",
            "1.0 = x / 1\n",
            "0.0 = x % 1\n"
          ],
          "name": "stdout"
        }
      ]
    },
    {
      "cell_type": "markdown",
      "metadata": {
        "id": "9O8iOTSUPXGw"
      },
      "source": [
        "## - Operadores de Comparação\n",
        "\n",
        "São aqueles no qual é feita uma comparação e a resposta será Verdadeiro ou Falso.\n",
        "\n",
        "- Maior que (>)\n",
        "- Menor que (<)\n",
        "- Igual a (==)\n",
        "- Diferente de (!=)\n",
        "- Maior ou igual a (>=)\n",
        "- Menor ou igual a (<=)"
      ]
    },
    {
      "cell_type": "code",
      "metadata": {
        "id": "EYSMZFqKPekU",
        "outputId": "719893f4-6bd5-441b-946a-fd704fda9f46",
        "colab": {
          "base_uri": "https://localhost:8080/"
        }
      },
      "source": [
        "C = 5\n",
        "D = 7\n",
        "\n",
        "print( \"C é maior que D?\", C > D)\n",
        "print( \"C é menor que D?\", C < D)\n",
        "print( \"C é igual a D?\", C == D)\n",
        "print( \"C é diferente de D?\", C != D)\n",
        "print( \"C é maior ou igual a D?\", C >= D)\n",
        "print( \"C é menor ou igual a D?\", C <= D)"
      ],
      "execution_count": 12,
      "outputs": [
        {
          "output_type": "stream",
          "text": [
            "C é maior que D? False\n",
            "C é menor que D? True\n",
            "C é igual a D? False\n",
            "C é diferente de D? True\n",
            "C é maior ou igual a D? False\n",
            "C é menor ou igual a D? True\n"
          ],
          "name": "stdout"
        }
      ]
    },
    {
      "cell_type": "markdown",
      "metadata": {
        "id": "T2AwbQsWKMLy"
      },
      "source": [
        "## - Operadores Lógicos\n",
        "São usados para unir duas ou mais expressões condicionais.\n",
        "\n",
        "- and - retorna TRUE se todas as condições for verdadeiras, caso contrário FALSE\n",
        "- or - retorna TRUE se pelo menos uma das condições for verdadeiras, caso contrário FALSE\n",
        "- not - inverte o resultado: se o resultado da expressão for TRUE, o operador retorna FALSE. Se o resultado for FALSE, o operador retorna TRUE"
      ]
    },
    {
      "cell_type": "code",
      "metadata": {
        "id": "6xDlVxt_OFcu",
        "outputId": "10d64874-33e0-41f6-b056-0ec90536c5d2",
        "colab": {
          "base_uri": "https://localhost:8080/"
        }
      },
      "source": [
        "# AND\n",
        "idade_italo = 23\n",
        "idade_gabriela = 26\n",
        "\n",
        "if (idade_italo >= 18 and idade_gabriela >= 18):\n",
        "  print('São maiores de idade')\n",
        "else:\n",
        "  print('Não são maiores de idade')"
      ],
      "execution_count": 13,
      "outputs": [
        {
          "output_type": "stream",
          "text": [
            "São maiores de idade\n"
          ],
          "name": "stdout"
        }
      ]
    },
    {
      "cell_type": "code",
      "metadata": {
        "id": "ZG3NxnuzO89w",
        "outputId": "18e8b3af-dbfc-435a-8581-a9f313b090b2",
        "colab": {
          "base_uri": "https://localhost:8080/"
        }
      },
      "source": [
        "# OR\n",
        "idade_italo = 13\n",
        "idade_gabriela = 13\n",
        "\n",
        "if (idade_italo >= 18 or idade_gabriela >= 18):\n",
        "  print('Pelo menos um é maior de idade')\n",
        "else:\n",
        "  print('Não são maiores de idade')"
      ],
      "execution_count": 14,
      "outputs": [
        {
          "output_type": "stream",
          "text": [
            "Não são maiores de idade\n"
          ],
          "name": "stdout"
        }
      ]
    },
    {
      "cell_type": "code",
      "metadata": {
        "id": "3JYAGaUIPODB",
        "outputId": "84c412e8-2fe2-4dd5-fffa-af44e85f8bc2",
        "colab": {
          "base_uri": "https://localhost:8080/"
        }
      },
      "source": [
        "# NOT\n",
        "\n",
        "linguagem = input('Linguagem de programação: ')\n",
        "\n",
        "if not (linguagem == 'Python'):\n",
        "  print('Errado, é outra')\n",
        "else:\n",
        "  print('Correto, é Python')"
      ],
      "execution_count": 15,
      "outputs": [
        {
          "output_type": "stream",
          "text": [
            "Linguagem de programação: Python\n",
            "Correto, é Python\n"
          ],
          "name": "stdout"
        }
      ]
    },
    {
      "cell_type": "markdown",
      "metadata": {
        "id": "gShBfSvVW813"
      },
      "source": [
        "# ESTRUTURAS DE DADOS\n",
        "\n",
        "Permitem armazenar múltiplos itens dentro de uma única unidade."
      ]
    },
    {
      "cell_type": "markdown",
      "metadata": {
        "id": "S6_6fSEWXMKc"
      },
      "source": [
        "## Listas\n",
        "\n",
        "Coleção de valores, em que cada valor é identificado por um índice. O primeiro item na lista está no índice 0, o segundo no índice 1 e assim por diante."
      ]
    },
    {
      "cell_type": "code",
      "metadata": {
        "id": "1pT2JY903SWP",
        "outputId": "1973fac0-f743-43da-8e7e-ad2ad8392745",
        "colab": {
          "base_uri": "https://localhost:8080/"
        }
      },
      "source": [
        "cores = ['verde', 'azul', 'preto', 'branco', 'vermelho']\n",
        "\n",
        "print(type(cores)) # ‘list’\n",
        "print(cores[3]) # branco"
      ],
      "execution_count": 16,
      "outputs": [
        {
          "output_type": "stream",
          "text": [
            "<class 'list'>\n",
            "branco\n"
          ],
          "name": "stdout"
        }
      ]
    },
    {
      "cell_type": "code",
      "metadata": {
        "id": "RoR9YktD4Bl5",
        "outputId": "e9f86a7b-fa30-41a1-9243-a2a05b827e5f",
        "colab": {
          "base_uri": "https://localhost:8080/"
        }
      },
      "source": [
        "#Atualizando lista\n",
        "cores = ['verde', 'azul', 'preto', 'branco', 'vermelho']\n",
        "print(cores)\n",
        "\n",
        "cores[1] = 'amarelo'\n",
        "print(cores)"
      ],
      "execution_count": 17,
      "outputs": [
        {
          "output_type": "stream",
          "text": [
            "['verde', 'azul', 'preto', 'branco', 'vermelho']\n",
            "['verde', 'amarelo', 'preto', 'branco', 'vermelho']\n"
          ],
          "name": "stdout"
        }
      ]
    },
    {
      "cell_type": "markdown",
      "metadata": {
        "id": "zme1c3fKXNw3"
      },
      "source": [
        "## Tuplas\n",
        "Semelhante a lista, mas com característica de ser imutável, não podendo mais ser alterada."
      ]
    },
    {
      "cell_type": "code",
      "metadata": {
        "id": "PTVwtT4t4jvH",
        "outputId": "f5baacde-9d02-49c4-a2a2-519516d9e500",
        "colab": {
          "base_uri": "https://localhost:8080/"
        }
      },
      "source": [
        "times_sp = ('Corinthians', 'Palmeiras', 'São Paulo', 'Santos')\n",
        "\n",
        "print(type(times_sp)) # class\n",
        "print(times_sp)"
      ],
      "execution_count": 18,
      "outputs": [
        {
          "output_type": "stream",
          "text": [
            "<class 'tuple'>\n",
            "('Corinthians', 'Palmeiras', 'São Paulo', 'Santos')\n"
          ],
          "name": "stdout"
        }
      ]
    },
    {
      "cell_type": "code",
      "metadata": {
        "id": "C38LBhB25Hnk",
        "outputId": "684fc87f-fb09-4aa4-ae22-4d32cb9152cc",
        "colab": {
          "base_uri": "https://localhost:8080/"
        }
      },
      "source": [
        "vogais = ('a', 'e', 'i', 'o', 'u')\n",
        "\n",
        "print(vogais[1]) # e"
      ],
      "execution_count": 19,
      "outputs": [
        {
          "output_type": "stream",
          "text": [
            "e\n"
          ],
          "name": "stdout"
        }
      ]
    },
    {
      "cell_type": "markdown",
      "metadata": {
        "id": "wqIwRXYvXO_e"
      },
      "source": [
        "## Dicionários\n",
        "Os dicionários representam coleções de dados que contém na sua estrutura um conjunto de pares **chave/valor**, nos quais cada chave individual tem um valor associado."
      ]
    },
    {
      "cell_type": "code",
      "metadata": {
        "id": "QUoZdmwG5X1n",
        "outputId": "3d9b8f2c-12f0-4fb8-981d-5c901150d3f4",
        "colab": {
          "base_uri": "https://localhost:8080/"
        }
      },
      "source": [
        "dados_cliente = {\n",
        "    'Nome': 'Italo',\n",
        "    'Endereco': 'Rua Pedro II, 12, Centro',\n",
        "    'Telefone': '(89) 99912-0876)'\n",
        "}\n",
        "\n",
        "print(dados_cliente['Nome']) # Italo"
      ],
      "execution_count": 20,
      "outputs": [
        {
          "output_type": "stream",
          "text": [
            "Italo\n"
          ],
          "name": "stdout"
        }
      ]
    },
    {
      "cell_type": "code",
      "metadata": {
        "id": "vglG722g5tTb",
        "outputId": "1d810c14-af78-4734-c00f-548519134d75",
        "colab": {
          "base_uri": "https://localhost:8080/"
        }
      },
      "source": [
        "# Adicionando\n",
        "dados_cliente['Idade'] = 23\n",
        "\n",
        "print(dados_cliente)"
      ],
      "execution_count": 21,
      "outputs": [
        {
          "output_type": "stream",
          "text": [
            "{'Nome': 'Italo', 'Endereco': 'Rua Pedro II, 12, Centro', 'Telefone': '(89) 99912-0876)', 'Idade': 23}\n"
          ],
          "name": "stdout"
        }
      ]
    },
    {
      "cell_type": "markdown",
      "metadata": {
        "id": "LdlYwEIyz68E"
      },
      "source": [
        "# ESTRUTURAS CONDICIONAIS\n",
        "\n",
        "Se dá por meio da avaliação de expressões booleanas (expressões cujo resultado é TRUE ou FALSE). Ou seja, em determinada situação, se a expressão booleana der true, o programa seguirá um caminho, caso dê false, seguirá outro."
      ]
    },
    {
      "cell_type": "markdown",
      "metadata": {
        "id": "KIPjNfWF7Qzs"
      },
      "source": [
        "## Estrutura Condicional Simples (IF)\n",
        "\n",
        "Verifica a condição dos argumentos passados e, executa um comando caso a condição seja verdadeira."
      ]
    },
    {
      "cell_type": "code",
      "metadata": {
        "id": "SW_CWenV-v0V",
        "outputId": "e44f4f5e-d522-4861-ad8d-9dbc88ffa80e",
        "colab": {
          "base_uri": "https://localhost:8080/"
        }
      },
      "source": [
        "a = 50\n",
        "b = 20\n",
        "\n",
        "if (a>b):\n",
        "  print(\"É verdade\")"
      ],
      "execution_count": 22,
      "outputs": [
        {
          "output_type": "stream",
          "text": [
            "É verdade\n"
          ],
          "name": "stdout"
        }
      ]
    },
    {
      "cell_type": "code",
      "metadata": {
        "id": "ueYlWbSt-8E7"
      },
      "source": [
        "if ((a+b) < 60):\n",
        "  print(\"É verdade\")"
      ],
      "execution_count": 23,
      "outputs": []
    },
    {
      "cell_type": "markdown",
      "metadata": {
        "id": "BoxIUMMr_LGN"
      },
      "source": [
        "## Estrutura Condicional Composta (IF - ELSE)\n",
        "\n",
        "Verifica a condição dos argumentos passados e, executa um comando caso a condição seja verdadeira, ou outro comando caso a condição seja falsa."
      ]
    },
    {
      "cell_type": "code",
      "metadata": {
        "id": "Z7G3-Qd6CdK1",
        "outputId": "f0a42ec4-ece3-4cd8-f7ac-b0b960ca9f24",
        "colab": {
          "base_uri": "https://localhost:8080/"
        }
      },
      "source": [
        "idade = 19\n",
        "\n",
        "if (idade <= 18):\n",
        "  print('Você ainda é jovem')\n",
        "else:\n",
        "  print('Você já é adulto')"
      ],
      "execution_count": 24,
      "outputs": [
        {
          "output_type": "stream",
          "text": [
            "Você já é adulto\n"
          ],
          "name": "stdout"
        }
      ]
    },
    {
      "cell_type": "markdown",
      "metadata": {
        "id": "qhu34vnhD7Sv"
      },
      "source": [
        "## Estrutura Condicional Aninhada (IF - ELIF - ELSE)\n",
        "\n",
        "Verifica a condição dos argumentos passados e, executa um comando caso a condição seja verdadeira. Se existir mais de uma condição alternativa que precisa ser verificada, devemos utilizar o *elif* para avaliar as expressões intermediárias antes de usar o *else*."
      ]
    },
    {
      "cell_type": "code",
      "metadata": {
        "id": "6tX-j7WZFH7M",
        "outputId": "76cae0bc-ea64-4356-96c2-cee8deab832c",
        "colab": {
          "base_uri": "https://localhost:8080/"
        }
      },
      "source": [
        "idade = input('Digite sua idade: ')\n",
        "idade = int(idade)\n",
        "\n",
        "if (idade < 12):\n",
        "  print('Você é uma criança')\n",
        "elif (idade >= 12 and idade < 18):\n",
        "  print('Você é um adolescente')\n",
        "elif (idade >= 18 and idade < 60):\n",
        "  print('Você é um adulto')\n",
        "else:\n",
        "  print('Você é um idoso')"
      ],
      "execution_count": 25,
      "outputs": [
        {
          "output_type": "stream",
          "text": [
            "Digite sua idade: 23\n",
            "Você é um adulto\n"
          ],
          "name": "stdout"
        }
      ]
    },
    {
      "cell_type": "code",
      "metadata": {
        "id": "1f63A7XIGd7O",
        "outputId": "bde2113e-094b-4a78-cefa-03553f3087d8",
        "colab": {
          "base_uri": "https://localhost:8080/"
        }
      },
      "source": [
        "nota = int(input(\"Digite uma nota: \"))\n",
        "\n",
        "if (nota < 5):\n",
        "    print(\"Reprovado\")\n",
        "elif (nota >= 5 and nota < 7):\n",
        "    print(\"Recuperação\")\n",
        "else:\n",
        "    print(\"Aprovado\")"
      ],
      "execution_count": 26,
      "outputs": [
        {
          "output_type": "stream",
          "text": [
            "Digite uma nota: 7\n",
            "Aprovado\n"
          ],
          "name": "stdout"
        }
      ]
    },
    {
      "cell_type": "markdown",
      "metadata": {
        "id": "5QN7dmD8GUmf"
      },
      "source": [
        "# ESTRUTURAS DE REPETIÇÃO\n",
        "\n",
        "É o ato de repetir o mesmo bloco de comandos enquanto uma condição está sendo satisfeita."
      ]
    },
    {
      "cell_type": "markdown",
      "metadata": {
        "id": "O01QL4A_TOxX"
      },
      "source": [
        "## For\n",
        "\n",
        "É usado quando se quer iterar sobre um bloco de código um determinado número de vezes."
      ]
    },
    {
      "cell_type": "code",
      "metadata": {
        "id": "cSXVYx2aUq4Q",
        "outputId": "bd622b62-186b-4795-93ce-fbea48e52d86",
        "colab": {
          "base_uri": "https://localhost:8080/"
        }
      },
      "source": [
        "for num in range(0, 5):\n",
        "  print(num)"
      ],
      "execution_count": 27,
      "outputs": [
        {
          "output_type": "stream",
          "text": [
            "0\n",
            "1\n",
            "2\n",
            "3\n",
            "4\n"
          ],
          "name": "stdout"
        }
      ]
    },
    {
      "cell_type": "markdown",
      "metadata": {
        "id": "Qhf-WsAeWWMz"
      },
      "source": [
        "Se aplica em strings também:"
      ]
    },
    {
      "cell_type": "code",
      "metadata": {
        "id": "-TDo4v1-WUmw",
        "outputId": "ab8c0eb1-0e2a-455d-9078-19230f5c2bfa",
        "colab": {
          "base_uri": "https://localhost:8080/"
        }
      },
      "source": [
        "# Para cada letra na palavra, imprimir a letra\n",
        "palavra = \"Neuron Data Science and AI\"\n",
        "\n",
        "for letra in palavra:\n",
        "  print(letra)"
      ],
      "execution_count": 28,
      "outputs": [
        {
          "output_type": "stream",
          "text": [
            "N\n",
            "e\n",
            "u\n",
            "r\n",
            "o\n",
            "n\n",
            " \n",
            "D\n",
            "a\n",
            "t\n",
            "a\n",
            " \n",
            "S\n",
            "c\n",
            "i\n",
            "e\n",
            "n\n",
            "c\n",
            "e\n",
            " \n",
            "a\n",
            "n\n",
            "d\n",
            " \n",
            "A\n",
            "I\n"
          ],
          "name": "stdout"
        }
      ]
    },
    {
      "cell_type": "markdown",
      "metadata": {
        "id": "ObJBvE55VAym"
      },
      "source": [
        "## While\n",
        "\n",
        "É usando quando queremos que o bloco de código seja repetido até que uma condição seja satisfeita."
      ]
    },
    {
      "cell_type": "code",
      "metadata": {
        "id": "be9QHsWtU1se",
        "outputId": "9a4ba646-6fe2-47f6-e04e-7a0f2dadcc0b",
        "colab": {
          "base_uri": "https://localhost:8080/"
        }
      },
      "source": [
        "n = 0\n",
        "\n",
        "while (n < 3):\n",
        "  print('n vale:', n)\n",
        "  n += 1\n",
        "\n",
        "print('Saiu do loop')"
      ],
      "execution_count": 29,
      "outputs": [
        {
          "output_type": "stream",
          "text": [
            "n vale: 0\n",
            "n vale: 1\n",
            "n vale: 2\n",
            "Saiu do loop\n"
          ],
          "name": "stdout"
        }
      ]
    },
    {
      "cell_type": "code",
      "metadata": {
        "id": "W0puw_2FW0KD",
        "outputId": "38c24a12-8dd7-4cbc-a005-c245ab81874e",
        "colab": {
          "base_uri": "https://localhost:8080/"
        }
      },
      "source": [
        "i = 0\n",
        "\n",
        "while (i != 3):\n",
        "    i = int(input (\"So vai sair se o numero for 3 : \"))\n",
        "\n",
        "print(\"Saiu do Loop\")"
      ],
      "execution_count": 30,
      "outputs": [
        {
          "output_type": "stream",
          "text": [
            "So vai sair se o numero for 3 : 6\n",
            "So vai sair se o numero for 3 : 7\n",
            "So vai sair se o numero for 3 : 3\n",
            "Saiu do Loop\n"
          ],
          "name": "stdout"
        }
      ]
    },
    {
      "cell_type": "markdown",
      "metadata": {
        "id": "Yb_j0k25XYIT"
      },
      "source": [
        "# FUNÇÕES\n",
        "\n",
        "Blocos de código que realizam determinadas tarefas que normalmente precisam ser executadas diversas vezes dentro de uma aplicação."
      ]
    },
    {
      "cell_type": "markdown",
      "metadata": {
        "id": "4oP8OpnbXnkp"
      },
      "source": [
        "## Definindo uma função"
      ]
    },
    {
      "cell_type": "code",
      "metadata": {
        "id": "_I88pllUG-lg"
      },
      "source": [
        "def media(x, y):\n",
        "  return (x+y)/2"
      ],
      "execution_count": 31,
      "outputs": []
    },
    {
      "cell_type": "code",
      "metadata": {
        "id": "Syy4c3CnHLO7",
        "outputId": "d8794b99-71f0-4ebb-d278-d242c0e28ff2",
        "colab": {
          "base_uri": "https://localhost:8080/"
        }
      },
      "source": [
        "num = media(6, 4)\n",
        "\n",
        "print('A média é: ', num)"
      ],
      "execution_count": 32,
      "outputs": [
        {
          "output_type": "stream",
          "text": [
            "A média é:  5.0\n"
          ],
          "name": "stdout"
        }
      ]
    },
    {
      "cell_type": "markdown",
      "metadata": {
        "id": "6TewfXMttWZb"
      },
      "source": [
        "## Funções úteis"
      ]
    },
    {
      "cell_type": "markdown",
      "metadata": {
        "id": "pJ0qyK0ittOo"
      },
      "source": [
        "### min() e max()\n",
        "\n",
        "min() - retorna o menor valor\n",
        "\n",
        "max() - retorna o maior valor"
      ]
    },
    {
      "cell_type": "code",
      "metadata": {
        "id": "J8s4KXpStU39",
        "outputId": "025e12b3-9c40-4d48-91bc-35660c1aba72",
        "colab": {
          "base_uri": "https://localhost:8080/"
        }
      },
      "source": [
        "numeros = [15, 5, 0, 20, 10]\n",
        "nomes = ['Italo', 'Jonathan', 'Gabriela', 'Nicholas', 'Erika']\n",
        "\n",
        "print(min(numeros))\n",
        "print(max(numeros))\n",
        "\n",
        "print(min(nomes))\n",
        "print(max(nomes))"
      ],
      "execution_count": 33,
      "outputs": [
        {
          "output_type": "stream",
          "text": [
            "0\n",
            "20\n",
            "Erika\n",
            "Nicholas\n"
          ],
          "name": "stdout"
        }
      ]
    },
    {
      "cell_type": "markdown",
      "metadata": {
        "id": "FLhLR-3it-l9"
      },
      "source": [
        "### sum()\n",
        "\n",
        "Retorna a soma de todos os elementos da coleção."
      ]
    },
    {
      "cell_type": "code",
      "metadata": {
        "id": "7pz4FID4t-Cn",
        "outputId": "68d423fd-9fa4-4e54-a407-15f47371d5c4",
        "colab": {
          "base_uri": "https://localhost:8080/"
        }
      },
      "source": [
        "numeros = [1, 3, 6]\n",
        "\n",
        "print(sum(numeros))"
      ],
      "execution_count": 34,
      "outputs": [
        {
          "output_type": "stream",
          "text": [
            "10\n"
          ],
          "name": "stdout"
        }
      ]
    },
    {
      "cell_type": "markdown",
      "metadata": {
        "id": "X9M2pJHruQYd"
      },
      "source": [
        "### len()\n",
        "\n",
        "Retorna o tamanho de um objeto"
      ]
    },
    {
      "cell_type": "code",
      "metadata": {
        "id": "s7Dw65pWuVfB",
        "outputId": "7d7b468e-4a1d-4e9a-e2f8-9428fa736f8e",
        "colab": {
          "base_uri": "https://localhost:8080/"
        }
      },
      "source": [
        "paises = ['Argentina', 'Brasil', 'Colômbia', 'Uruguai']\n",
        "\n",
        "print(len(paises))"
      ],
      "execution_count": 35,
      "outputs": [
        {
          "output_type": "stream",
          "text": [
            "4\n"
          ],
          "name": "stdout"
        }
      ]
    },
    {
      "cell_type": "markdown",
      "metadata": {
        "id": "rlFQHTfVubVR"
      },
      "source": [
        "### type()\n",
        "\n",
        "Obtém o tipo do objeto passado no parâmetro."
      ]
    },
    {
      "cell_type": "code",
      "metadata": {
        "id": "PGih_ssMuinq",
        "outputId": "cfdb7174-3eb4-4d4d-9199-6217cc6e8bea",
        "colab": {
          "base_uri": "https://localhost:8080/"
        }
      },
      "source": [
        "nome = 'Italo'\n",
        "\n",
        "professores = ['Marcelo', 'João Henrique', 'Ingrid', 'Luciano']\n",
        "\n",
        "estacoes = ('Primavera', 'Verão', 'Outono', 'Inverno')\n",
        "\n",
        "cliente = {\n",
        "    'Nome': 'Hugo Menezes',\n",
        "    'email' : 'hugo_menezes@outlook.com'\n",
        "}\n",
        "\n",
        "print(type(nome)) # string\n",
        "print(type(professores)) # list\n",
        "print(type(estacoes)) # tuple\n",
        "print(type(cliente)) # dict"
      ],
      "execution_count": 36,
      "outputs": [
        {
          "output_type": "stream",
          "text": [
            "<class 'str'>\n",
            "<class 'list'>\n",
            "<class 'tuple'>\n",
            "<class 'dict'>\n"
          ],
          "name": "stdout"
        }
      ]
    }
  ]
}