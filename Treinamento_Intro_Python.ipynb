{
  "nbformat": 4,
  "nbformat_minor": 0,
  "metadata": {
    "colab": {
      "name": "Treinamento_Intro_Python.ipynb",
      "provenance": [],
      "collapsed_sections": []
    },
    "kernelspec": {
      "name": "python3",
      "display_name": "Python 3"
    }
  },
  "cells": [
    {
      "cell_type": "markdown",
      "metadata": {
        "id": "mDTmk_CvSEz9"
      },
      "source": [
        "# **Italo Giullian - (Neuron - Projetos)**\n",
        "\n",
        "**LinkedIn**: https://www.linkedin.com/in/italogiullian/\n",
        "\n",
        "**GitHub**: https://github.com/italoalbuq\n",
        "\n",
        "**E-mail**: italoalbuq@hotmail.com"
      ]
    },
    {
      "cell_type": "markdown",
      "metadata": {
        "id": "fSjaopjp79w6"
      },
      "source": [
        "# **INTRODUÇÃO AO PYTHON**\n",
        "## Por onde começar?"
      ]
    },
    {
      "cell_type": "markdown",
      "metadata": {
        "id": "JIYxSCu0UYQ0"
      },
      "source": [
        "# VARIÁVEIS\n",
        "\n",
        "Uma variável é um nome qualquer atribuído à uma posição da memória cujo espaço é reservado a um determinado conjunto de dados.\n",
        "\n",
        "No python, a sua declaração se dá da seguinte maneira:\n",
        "\n",
        "### var = valor\n",
        "\n",
        "Exemplos de criação de variáveis:\n",
        "\n"
      ]
    },
    {
      "cell_type": "code",
      "metadata": {
        "id": "IsX30hJTAYaN",
        "colab": {
          "base_uri": "https://localhost:8080/"
        },
        "outputId": "0d5209af-1b5b-401f-ec60-2f7b3604cec5"
      },
      "source": [
        "num = 10\n",
        "var = 'Neuron'\n",
        "\n",
        "print(num)\n",
        "print(var)"
      ],
      "execution_count": 1,
      "outputs": [
        {
          "output_type": "stream",
          "text": [
            "10\n",
            "Neuron\n"
          ],
          "name": "stdout"
        }
      ]
    },
    {
      "cell_type": "markdown",
      "metadata": {
        "id": "-Vj8-FuzAvLt"
      },
      "source": [
        "Regras de criação de variáveis:\n",
        "\n",
        "1 - A primeira letra da variável deve ser uma letra ou um underline _\n",
        "\n",
        "2 - Não pode haver espaços em seu nome.\n",
        "\n",
        "3 - Elas são “case sensitive”.\n",
        "\n",
        "Caso contrário:\n"
      ]
    },
    {
      "cell_type": "code",
      "metadata": {
        "id": "S2NIVokTC-fx",
        "colab": {
          "base_uri": "https://localhost:8080/",
          "height": 129
        },
        "outputId": "5e45f4de-5d31-4120-d1a3-11adbb656c62"
      },
      "source": [
        "0nome = \"Neuron\""
      ],
      "execution_count": 2,
      "outputs": [
        {
          "output_type": "error",
          "ename": "SyntaxError",
          "evalue": "ignored",
          "traceback": [
            "\u001b[0;36m  File \u001b[0;32m\"<ipython-input-2-204b2292f270>\"\u001b[0;36m, line \u001b[0;32m1\u001b[0m\n\u001b[0;31m    0nome = \"Neuron\"\u001b[0m\n\u001b[0m        ^\u001b[0m\n\u001b[0;31mSyntaxError\u001b[0m\u001b[0;31m:\u001b[0m invalid syntax\n"
          ]
        }
      ]
    },
    {
      "cell_type": "code",
      "metadata": {
        "id": "vOZe51EsDBr1",
        "colab": {
          "base_uri": "https://localhost:8080/",
          "height": 129
        },
        "outputId": "ebebf63d-fbef-4b0e-8c57-c16a09bf0382"
      },
      "source": [
        "nome da variavel = 'Neuron'"
      ],
      "execution_count": 3,
      "outputs": [
        {
          "output_type": "error",
          "ename": "SyntaxError",
          "evalue": "ignored",
          "traceback": [
            "\u001b[0;36m  File \u001b[0;32m\"<ipython-input-3-691bf39a7471>\"\u001b[0;36m, line \u001b[0;32m1\u001b[0m\n\u001b[0;31m    nome da variavel = 'Neuron'\u001b[0m\n\u001b[0m          ^\u001b[0m\n\u001b[0;31mSyntaxError\u001b[0m\u001b[0;31m:\u001b[0m invalid syntax\n"
          ]
        }
      ]
    },
    {
      "cell_type": "markdown",
      "metadata": {
        "id": "tlm6SEU4EtAe"
      },
      "source": [
        "## Entrada e Saída de dados\n",
        "\n",
        "Para ler dados digitados pelo usuário durante a execução do programa, utilizamos a função *input()*."
      ]
    },
    {
      "cell_type": "code",
      "metadata": {
        "id": "pNvLQpSWEolu",
        "colab": {
          "base_uri": "https://localhost:8080/"
        },
        "outputId": "13b9d1ba-3d4a-4c4f-d4cc-7ee6fe092f07"
      },
      "source": [
        "nome = input('Digite seu nome: ')\n",
        "\n",
        "print(\"Bem-vindo,\", nome)"
      ],
      "execution_count": 4,
      "outputs": [
        {
          "output_type": "stream",
          "text": [
            "Digite seu nome: Italo\n",
            "Bem-vindo, Italo\n"
          ],
          "name": "stdout"
        }
      ]
    },
    {
      "cell_type": "markdown",
      "metadata": {
        "id": "-SK1J_nrF4zb"
      },
      "source": [
        "A função *input()* sempre lê strings. Por isso, caso deseje ler um número, deverá converter o dado retornado por essa função para o formato numérico apropriado."
      ]
    },
    {
      "cell_type": "code",
      "metadata": {
        "id": "Wu7KuKFYGI2c",
        "colab": {
          "base_uri": "https://localhost:8080/"
        },
        "outputId": "4e4059c4-475e-4b4c-e147-b806e9eb5779"
      },
      "source": [
        "idade = input('Digite sua idade: ')\n",
        "print(type(idade))"
      ],
      "execution_count": 5,
      "outputs": [
        {
          "output_type": "stream",
          "text": [
            "Digite sua idade: 23\n",
            "<class 'str'>\n"
          ],
          "name": "stdout"
        }
      ]
    },
    {
      "cell_type": "markdown",
      "metadata": {
        "id": "mftEwHm6Hm9a"
      },
      "source": [
        "É possível transformar o tipo da variável por meio de funções. Por exemplo:"
      ]
    },
    {
      "cell_type": "code",
      "metadata": {
        "id": "UzhJ038tHZsp",
        "colab": {
          "base_uri": "https://localhost:8080/"
        },
        "outputId": "0299318b-a455-4c98-b9fb-8d3077e8da0d"
      },
      "source": [
        "idade = int(idade)\n",
        "\n",
        "print(idade)\n",
        "print(type(idade))"
      ],
      "execution_count": 6,
      "outputs": [
        {
          "output_type": "stream",
          "text": [
            "23\n",
            "<class 'int'>\n"
          ],
          "name": "stdout"
        }
      ]
    },
    {
      "cell_type": "code",
      "metadata": {
        "id": "dn6HuqvPHzt3",
        "colab": {
          "base_uri": "https://localhost:8080/"
        },
        "outputId": "9d8bf7c6-4903-4a67-ff55-82caaea76fea"
      },
      "source": [
        "idade = float(idade)\n",
        "\n",
        "print(idade)\n",
        "print(type(idade))"
      ],
      "execution_count": 7,
      "outputs": [
        {
          "output_type": "stream",
          "text": [
            "23.0\n",
            "<class 'float'>\n"
          ],
          "name": "stdout"
        }
      ]
    },
    {
      "cell_type": "markdown",
      "metadata": {
        "id": "ZcKhg-RtDUue"
      },
      "source": [
        "## Tipos de Variáveis\n",
        "\n",
        "De maneira geral, as variáveis são dividas em Strings, Inteiros, Reais, Booleanos. Essa divisão ocorre em virtude da natureza dos dados que serão registrados na memória."
      ]
    },
    {
      "cell_type": "code",
      "metadata": {
        "id": "IWRc4VMWDTml",
        "colab": {
          "base_uri": "https://localhost:8080/"
        },
        "outputId": "231c2313-983f-4d9a-a920-34c3a817edf9"
      },
      "source": [
        "nome = 'Neuron'       # string\n",
        "num1 = 10             # int\n",
        "num2 = 10.2           # float\n",
        "verdadeiro = True    # boolean\n",
        "\n",
        "print(type(nome))\n",
        "print(type(num1))\n",
        "print(type(num2))\n",
        "print(type(verdadeiro))"
      ],
      "execution_count": 8,
      "outputs": [
        {
          "output_type": "stream",
          "text": [
            "<class 'str'>\n",
            "<class 'int'>\n",
            "<class 'float'>\n",
            "<class 'bool'>\n"
          ],
          "name": "stdout"
        }
      ]
    },
    {
      "cell_type": "markdown",
      "metadata": {
        "id": "AGwIEkgyKHOy"
      },
      "source": [
        "# OPERADORES\n",
        "\n",
        "Para realizarmos as operações no python usamos os operadores, eles nos permitem realizar operações matemáticas e operações lógicas, abrindo assim um grupo enorme de possibilidades.\n"
      ]
    },
    {
      "cell_type": "markdown",
      "metadata": {
        "id": "mBZ_dmDTMWxh"
      },
      "source": [
        "## - Operadores Aritméticos\n",
        "- Somar (+)\n",
        "- Subtrair (-)\n",
        "- Multiplicar (*)\n",
        "- Dividir (/)\n",
        "- Exponenciação (**)\n",
        "- Parte inteira (//)\n",
        "- Resto da divisão (%)"
      ]
    },
    {
      "cell_type": "code",
      "metadata": {
        "id": "QZADgcMJOLKN",
        "colab": {
          "base_uri": "https://localhost:8080/"
        },
        "outputId": "51dece0c-ab21-4471-fc96-aa820b84771e"
      },
      "source": [
        "A = 3\n",
        "B = 6\n",
        "\n",
        "print(\"A soma de (A + B) é:\", A+B)\n",
        "print(\"A subtração de (A - B) é:\", A-B)\n",
        "print(\"A multiplicação de (A x B) é:\", A*B)\n",
        "print(\"A divisão de (B / A) é:\", B/A)\n",
        "print(\"A ao quadrado é:\", A**2)\n",
        "print(\"A parte inteira de (10 / 8) é:\", 10//8)\n",
        "print(\"O resto da divisão de (10 / 8) é:\", 10%8)"
      ],
      "execution_count": 9,
      "outputs": [
        {
          "output_type": "stream",
          "text": [
            "A soma de (A + B) é: 9\n",
            "A subtração de (A - B) é: -3\n",
            "A multiplicação de (A x B) é: 18\n",
            "A divisão de (B / A) é: 2.0\n",
            "A ao quadrado é: 9\n",
            "A parte inteira de (10 / 8) é: 1\n",
            "O resto da divisão de (10 / 8) é: 2\n"
          ],
          "name": "stdout"
        }
      ]
    },
    {
      "cell_type": "markdown",
      "metadata": {
        "id": "1Luergg-Irxg"
      },
      "source": [
        "As expressões contidas em parênteses têm a precedência maior em Python\n",
        "\n",
        "Após os parênteses, o próximo operador com maior precedência é o de exponenciação\n",
        "\n",
        "Multiplicação e divisão têm precedência sobre a adição e subtração."
      ]
    },
    {
      "cell_type": "code",
      "metadata": {
        "id": "xQ07c_ZxIuCf",
        "colab": {
          "base_uri": "https://localhost:8080/"
        },
        "outputId": "4f8b6aab-304e-4311-868f-eeec54464587"
      },
      "source": [
        "print(2 + 5 * 3) #17\n",
        "\n",
        "print((2 + 5) * 3) #21\n",
        "\n",
        "print(2 + 3**2) #11"
      ],
      "execution_count": 10,
      "outputs": [
        {
          "output_type": "stream",
          "text": [
            "17\n",
            "21\n",
            "11\n"
          ],
          "name": "stdout"
        }
      ]
    },
    {
      "cell_type": "markdown",
      "metadata": {
        "id": "9O8iOTSUPXGw"
      },
      "source": [
        "## - Operadores de Comparação\n",
        "\n",
        "São aqueles no qual é feita uma comparação e a resposta será Verdadeiro ou Falso.\n",
        "\n",
        "- Maior que (>)\n",
        "- Menor que (<)\n",
        "- Igual a (==)\n",
        "- Diferente de (!=)\n",
        "- Maior ou igual a (>=)\n",
        "- Menor ou igual a (<=)"
      ]
    },
    {
      "cell_type": "code",
      "metadata": {
        "id": "EYSMZFqKPekU",
        "colab": {
          "base_uri": "https://localhost:8080/"
        },
        "outputId": "9d3907f7-d8f1-43b3-97da-d098abbe181c"
      },
      "source": [
        "C = 5\n",
        "D = 7\n",
        "\n",
        "print( \"C é maior que D?\", C > D)\n",
        "print( \"C é menor que D?\", C < D)\n",
        "print( \"C é igual a D?\", C == D)\n",
        "print( \"C é diferente de D?\", C != D)\n",
        "print( \"C é maior ou igual a D?\", C >= D)\n",
        "print( \"C é menor ou igual a D?\", C <= D)"
      ],
      "execution_count": 11,
      "outputs": [
        {
          "output_type": "stream",
          "text": [
            "C é maior que D? False\n",
            "C é menor que D? True\n",
            "C é igual a D? False\n",
            "C é diferente de D? True\n",
            "C é maior ou igual a D? False\n",
            "C é menor ou igual a D? True\n"
          ],
          "name": "stdout"
        }
      ]
    },
    {
      "cell_type": "markdown",
      "metadata": {
        "id": "gShBfSvVW813"
      },
      "source": [
        "# ESTRUTURAS DE DADOS\n",
        "\n",
        "Permitem armazenar múltiplos itens dentro de uma única unidade."
      ]
    },
    {
      "cell_type": "markdown",
      "metadata": {
        "id": "S6_6fSEWXMKc"
      },
      "source": [
        "## Listas\n",
        "\n",
        "Coleção de valores, em que cada valor é identificado por um índice. O primeiro item na lista está no índice 0, o segundo no índice 1 e assim por diante."
      ]
    },
    {
      "cell_type": "code",
      "metadata": {
        "id": "1pT2JY903SWP",
        "colab": {
          "base_uri": "https://localhost:8080/"
        },
        "outputId": "c99d995d-2465-4b90-a019-6b56d37e3537"
      },
      "source": [
        "cores = ['verde', 'azul', 'preto', 'branco', 'vermelho']\n",
        "\n",
        "print(type(cores))\n",
        "print(cores[3])"
      ],
      "execution_count": 12,
      "outputs": [
        {
          "output_type": "stream",
          "text": [
            "<class 'list'>\n",
            "branco\n"
          ],
          "name": "stdout"
        }
      ]
    },
    {
      "cell_type": "code",
      "metadata": {
        "id": "RoR9YktD4Bl5",
        "colab": {
          "base_uri": "https://localhost:8080/"
        },
        "outputId": "465fc771-6123-47ac-88e5-def9ea266046"
      },
      "source": [
        "#Atualizando lista\n",
        "cores = ['verde', 'azul', 'preto', 'branco', 'vermelho']\n",
        "print(cores)\n",
        "\n",
        "cores[1] = 'amarelo'\n",
        "print(cores)"
      ],
      "execution_count": 13,
      "outputs": [
        {
          "output_type": "stream",
          "text": [
            "['verde', 'azul', 'preto', 'branco', 'vermelho']\n",
            "['verde', 'amarelo', 'preto', 'branco', 'vermelho']\n"
          ],
          "name": "stdout"
        }
      ]
    },
    {
      "cell_type": "markdown",
      "metadata": {
        "id": "zme1c3fKXNw3"
      },
      "source": [
        "## Tuplas\n",
        "Semelhante a lista, mas com característica de ser imutável, não podendo mais ser alterada."
      ]
    },
    {
      "cell_type": "code",
      "metadata": {
        "id": "PTVwtT4t4jvH",
        "colab": {
          "base_uri": "https://localhost:8080/"
        },
        "outputId": "72e19ba9-4ee7-44ba-d42f-0c18dabe38f5"
      },
      "source": [
        "times_sp = ('Corinthians', 'Palmeiras', 'São Paulo', 'Santos')\n",
        "\n",
        "print(type(times_sp))\n",
        "print(times_sp)"
      ],
      "execution_count": 14,
      "outputs": [
        {
          "output_type": "stream",
          "text": [
            "<class 'tuple'>\n",
            "('Corinthians', 'Palmeiras', 'São Paulo', 'Santos')\n"
          ],
          "name": "stdout"
        }
      ]
    },
    {
      "cell_type": "code",
      "metadata": {
        "id": "C38LBhB25Hnk",
        "colab": {
          "base_uri": "https://localhost:8080/"
        },
        "outputId": "6a14f1bf-f80a-421a-c2a5-01d883a3d594"
      },
      "source": [
        "vogais = ('a', 'e', 'i', 'o', 'u')\n",
        "\n",
        "print(vogais[2])"
      ],
      "execution_count": 15,
      "outputs": [
        {
          "output_type": "stream",
          "text": [
            "i\n"
          ],
          "name": "stdout"
        }
      ]
    },
    {
      "cell_type": "markdown",
      "metadata": {
        "id": "wqIwRXYvXO_e"
      },
      "source": [
        "## Dicionários\n",
        "Os dicionários representam coleções de dados que contém na sua estrutura um conjunto de pares **chave/valor**, nos quais cada chave individual tem um valor associado."
      ]
    },
    {
      "cell_type": "code",
      "metadata": {
        "id": "QUoZdmwG5X1n",
        "colab": {
          "base_uri": "https://localhost:8080/"
        },
        "outputId": "8f321242-6b38-4efc-92ea-b349ff656598"
      },
      "source": [
        "dados_cliente = {\n",
        "    'Nome': 'Italo',\n",
        "    'Endereco': 'Rua Pedro II, 12, Centro',\n",
        "    'Telefone': '(89) 99912-0876)'\n",
        "}\n",
        "\n",
        "print(dados_cliente['Nome'])"
      ],
      "execution_count": 16,
      "outputs": [
        {
          "output_type": "stream",
          "text": [
            "Italo\n"
          ],
          "name": "stdout"
        }
      ]
    },
    {
      "cell_type": "markdown",
      "metadata": {
        "id": "LdlYwEIyz68E"
      },
      "source": [
        "# ESTRUTURAS CONDICIONAIS\n",
        "\n",
        "Se dá por meio da avaliação de expressões booleanas (expressões cujo resultado é TRUE ou FALSE). Ou seja, em determinada situação, se a expressão booleana der true, o programa seguirá um caminho, caso dê false, seguirá outro."
      ]
    },
    {
      "cell_type": "markdown",
      "metadata": {
        "id": "KIPjNfWF7Qzs"
      },
      "source": [
        "## Estrutura Condicional Simples (IF)\n",
        "\n",
        "Verifica a condição dos argumentos passados e, executa um comando caso a condição seja verdadeira."
      ]
    },
    {
      "cell_type": "code",
      "metadata": {
        "id": "SW_CWenV-v0V",
        "colab": {
          "base_uri": "https://localhost:8080/"
        },
        "outputId": "9fab7079-f671-49ad-d2c3-c00939c58a86"
      },
      "source": [
        "a = 50\n",
        "b = 20\n",
        "\n",
        "if (a>b):\n",
        "  print(\"É verdade\")"
      ],
      "execution_count": 17,
      "outputs": [
        {
          "output_type": "stream",
          "text": [
            "É verdade\n"
          ],
          "name": "stdout"
        }
      ]
    },
    {
      "cell_type": "code",
      "metadata": {
        "id": "ueYlWbSt-8E7"
      },
      "source": [
        "if ((a+b) < 60):\n",
        "  print(\"É verdade\")"
      ],
      "execution_count": 18,
      "outputs": []
    },
    {
      "cell_type": "markdown",
      "metadata": {
        "id": "BoxIUMMr_LGN"
      },
      "source": [
        "## Estrutura Condicional Composta (IF - ELSE)\n",
        "\n",
        "Verifica a condição dos argumentos passados e, executa um comando caso a condição seja verdadeira, ou outro comando caso a condição seja falsa."
      ]
    },
    {
      "cell_type": "code",
      "metadata": {
        "id": "Z7G3-Qd6CdK1",
        "colab": {
          "base_uri": "https://localhost:8080/"
        },
        "outputId": "c2bdd3c4-f733-479e-b893-8cea17070938"
      },
      "source": [
        "idade = 19\n",
        "\n",
        "if (idade <= 18):\n",
        "  print('Você ainda é jovem')\n",
        "else:\n",
        "  print('Você já é adulto')"
      ],
      "execution_count": 19,
      "outputs": [
        {
          "output_type": "stream",
          "text": [
            "Você já é adulto\n"
          ],
          "name": "stdout"
        }
      ]
    },
    {
      "cell_type": "markdown",
      "metadata": {
        "id": "qhu34vnhD7Sv"
      },
      "source": [
        "## Estrutura Condicional Aninhada (IF - ELIF - ELSE)\n",
        "\n",
        "Verifica a condição dos argumentos passados e, executa um comando caso a condição seja verdadeira. Se existir mais de uma condição alternativa que precisa ser verificada, devemos utilizar o *elif* para avaliar as expressões intermediárias antes de usar o *else*."
      ]
    },
    {
      "cell_type": "code",
      "metadata": {
        "id": "6tX-j7WZFH7M",
        "colab": {
          "base_uri": "https://localhost:8080/"
        },
        "outputId": "1432ea1b-0707-41f5-e08a-cbddd9ef5232"
      },
      "source": [
        "idade = int(input('Digite sua idade: '))\n",
        "\n",
        "if (idade < 12):\n",
        "  print('Você é uma criança')\n",
        "elif (idade >= 12 and idade < 18):\n",
        "  print('Você é um adolescente')\n",
        "elif (idade >= 18 and idade < 60):\n",
        "  print('Você é um adulto')\n",
        "else:\n",
        "  print('Você é um idoso')"
      ],
      "execution_count": 20,
      "outputs": [
        {
          "output_type": "stream",
          "text": [
            "Digite sua idade: 23\n",
            "Você é um adulto\n"
          ],
          "name": "stdout"
        }
      ]
    },
    {
      "cell_type": "code",
      "metadata": {
        "id": "1f63A7XIGd7O",
        "colab": {
          "base_uri": "https://localhost:8080/"
        },
        "outputId": "72d5ce2f-eb38-409f-b645-0c7dffba15ed"
      },
      "source": [
        "nota = int(input(\"Digite uma nota: \"))\n",
        "\n",
        "if (nota < 5):\n",
        "    print(\"Reprovado\")\n",
        "elif (nota >= 5 and nota < 7):\n",
        "    print(\"Recuperação\")\n",
        "else:\n",
        "    print(\"Aprovado\")"
      ],
      "execution_count": 21,
      "outputs": [
        {
          "output_type": "stream",
          "text": [
            "Digite uma nota: 9\n",
            "Aprovado\n"
          ],
          "name": "stdout"
        }
      ]
    },
    {
      "cell_type": "markdown",
      "metadata": {
        "id": "5QN7dmD8GUmf"
      },
      "source": [
        "# ESTRUTURAS DE REPETIÇÃO\n",
        "\n",
        "É o ato de repetir o mesmo bloco de comandos enquanto uma condição está sendo satisfeita."
      ]
    },
    {
      "cell_type": "markdown",
      "metadata": {
        "id": "O01QL4A_TOxX"
      },
      "source": [
        "## For\n",
        "\n",
        "É usado quando se quer iterar sobre um bloco de código um determinado número de vezes."
      ]
    },
    {
      "cell_type": "code",
      "metadata": {
        "id": "cSXVYx2aUq4Q",
        "colab": {
          "base_uri": "https://localhost:8080/"
        },
        "outputId": "1463a1de-a64e-49fb-b085-d843a5a1fc68"
      },
      "source": [
        "for num in range(0, 5):\n",
        "  print(num)"
      ],
      "execution_count": 22,
      "outputs": [
        {
          "output_type": "stream",
          "text": [
            "0\n",
            "1\n",
            "2\n",
            "3\n",
            "4\n"
          ],
          "name": "stdout"
        }
      ]
    },
    {
      "cell_type": "markdown",
      "metadata": {
        "id": "Qhf-WsAeWWMz"
      },
      "source": [
        "Se aplica em strings também:"
      ]
    },
    {
      "cell_type": "code",
      "metadata": {
        "id": "-TDo4v1-WUmw",
        "colab": {
          "base_uri": "https://localhost:8080/"
        },
        "outputId": "ba95dde9-1bfc-424f-ae7a-6931da017835"
      },
      "source": [
        "# Para cada letra na palavra, imprimir a letra\n",
        "palavra = \"Neuron Data Science and AI\"\n",
        "\n",
        "for letra in palavra:\n",
        "  print(letra)"
      ],
      "execution_count": 23,
      "outputs": [
        {
          "output_type": "stream",
          "text": [
            "N\n",
            "e\n",
            "u\n",
            "r\n",
            "o\n",
            "n\n",
            " \n",
            "D\n",
            "a\n",
            "t\n",
            "a\n",
            " \n",
            "S\n",
            "c\n",
            "i\n",
            "e\n",
            "n\n",
            "c\n",
            "e\n",
            " \n",
            "a\n",
            "n\n",
            "d\n",
            " \n",
            "A\n",
            "I\n"
          ],
          "name": "stdout"
        }
      ]
    },
    {
      "cell_type": "markdown",
      "metadata": {
        "id": "ObJBvE55VAym"
      },
      "source": [
        "## While\n",
        "\n",
        "É usada quando queremos que o bloco de código seja repetido até que uma condição seja satisfeita."
      ]
    },
    {
      "cell_type": "code",
      "metadata": {
        "id": "be9QHsWtU1se",
        "colab": {
          "base_uri": "https://localhost:8080/"
        },
        "outputId": "9df1c479-bb46-4836-8cea-d6be9768a2aa"
      },
      "source": [
        "n = 0\n",
        "\n",
        "while (n < 3):\n",
        "  print('n vale:', n)\n",
        "  n = n + 1\n",
        "\n",
        "print('Saiu do loop')"
      ],
      "execution_count": 24,
      "outputs": [
        {
          "output_type": "stream",
          "text": [
            "n vale: 0\n",
            "n vale: 1\n",
            "n vale: 2\n",
            "Saiu do loop\n"
          ],
          "name": "stdout"
        }
      ]
    },
    {
      "cell_type": "code",
      "metadata": {
        "id": "W0puw_2FW0KD",
        "colab": {
          "base_uri": "https://localhost:8080/"
        },
        "outputId": "d154ddff-2cdd-4f7c-facf-cd77a5ffea8a"
      },
      "source": [
        "i = 0\n",
        "\n",
        "while (i != 3):\n",
        "    i = int(input(\"So vai sair se o numero for 3 : \"))\n",
        "\n",
        "print(\"Saiu do Loop\")"
      ],
      "execution_count": 25,
      "outputs": [
        {
          "output_type": "stream",
          "text": [
            "So vai sair se o numero for 3 : 2\n",
            "So vai sair se o numero for 3 : 1\n",
            "So vai sair se o numero for 3 : 3\n",
            "Saiu do Loop\n"
          ],
          "name": "stdout"
        }
      ]
    },
    {
      "cell_type": "markdown",
      "metadata": {
        "id": "Yb_j0k25XYIT"
      },
      "source": [
        "# FUNÇÕES\n",
        "\n",
        "Blocos de código que realizam determinadas tarefas que normalmente precisam ser executadas diversas vezes dentro de uma aplicação."
      ]
    },
    {
      "cell_type": "markdown",
      "metadata": {
        "id": "4oP8OpnbXnkp"
      },
      "source": [
        "## Definindo uma função"
      ]
    },
    {
      "cell_type": "code",
      "metadata": {
        "id": "_I88pllUG-lg"
      },
      "source": [
        "def media(x, y):\n",
        "  return (x+y)/2"
      ],
      "execution_count": 26,
      "outputs": []
    },
    {
      "cell_type": "code",
      "metadata": {
        "id": "Syy4c3CnHLO7",
        "colab": {
          "base_uri": "https://localhost:8080/"
        },
        "outputId": "a9001c7b-003a-4618-b57a-a0ad2c3a7fef"
      },
      "source": [
        "num = media(3, 4)\n",
        "\n",
        "print('A média é: ', num)"
      ],
      "execution_count": 27,
      "outputs": [
        {
          "output_type": "stream",
          "text": [
            "A média é:  3.5\n"
          ],
          "name": "stdout"
        }
      ]
    },
    {
      "cell_type": "markdown",
      "metadata": {
        "id": "6TewfXMttWZb"
      },
      "source": [
        "## Funções úteis"
      ]
    },
    {
      "cell_type": "markdown",
      "metadata": {
        "id": "pJ0qyK0ittOo"
      },
      "source": [
        "### min() e max()\n",
        "\n",
        "min() - retorna o menor valor\n",
        "\n",
        "max() - retorna o maior valor"
      ]
    },
    {
      "cell_type": "code",
      "metadata": {
        "id": "J8s4KXpStU39",
        "colab": {
          "base_uri": "https://localhost:8080/"
        },
        "outputId": "21fc9867-9e18-4515-87fd-a57b2b575480"
      },
      "source": [
        "numeros = [15, 5, 0, 20, 10]\n",
        "nomes = ['Italo', 'Jonathan', 'Gabriela', 'Nicholas', 'Erika']\n",
        "\n",
        "print(min(numeros))\n",
        "print(max(numeros))\n",
        "\n",
        "print(min(nomes))\n",
        "print(max(nomes))"
      ],
      "execution_count": 28,
      "outputs": [
        {
          "output_type": "stream",
          "text": [
            "0\n",
            "20\n",
            "Erika\n",
            "Nicholas\n"
          ],
          "name": "stdout"
        }
      ]
    },
    {
      "cell_type": "markdown",
      "metadata": {
        "id": "FLhLR-3it-l9"
      },
      "source": [
        "### sum()\n",
        "\n",
        "Retorna a soma de todos os elementos da coleção."
      ]
    },
    {
      "cell_type": "code",
      "metadata": {
        "id": "7pz4FID4t-Cn",
        "colab": {
          "base_uri": "https://localhost:8080/"
        },
        "outputId": "200941ab-b21a-468b-954d-502ef95dcd32"
      },
      "source": [
        "numeros = [1, 3, 6]\n",
        "\n",
        "print(sum(numeros))"
      ],
      "execution_count": 29,
      "outputs": [
        {
          "output_type": "stream",
          "text": [
            "10\n"
          ],
          "name": "stdout"
        }
      ]
    },
    {
      "cell_type": "markdown",
      "metadata": {
        "id": "X9M2pJHruQYd"
      },
      "source": [
        "### len()\n",
        "\n",
        "Retorna o tamanho de um objeto"
      ]
    },
    {
      "cell_type": "code",
      "metadata": {
        "id": "s7Dw65pWuVfB",
        "colab": {
          "base_uri": "https://localhost:8080/"
        },
        "outputId": "eca64ab7-c678-4f59-ab65-59747b5f771b"
      },
      "source": [
        "paises = ['Argentina', 'Brasil', 'Colômbia', 'Uruguai']\n",
        "\n",
        "print(len(paises))"
      ],
      "execution_count": 30,
      "outputs": [
        {
          "output_type": "stream",
          "text": [
            "4\n"
          ],
          "name": "stdout"
        }
      ]
    },
    {
      "cell_type": "markdown",
      "metadata": {
        "id": "rlFQHTfVubVR"
      },
      "source": [
        "### type()\n",
        "\n",
        "Obtém o tipo do objeto passado no parâmetro."
      ]
    },
    {
      "cell_type": "code",
      "metadata": {
        "id": "PGih_ssMuinq",
        "colab": {
          "base_uri": "https://localhost:8080/"
        },
        "outputId": "3912c930-5f76-41b6-d585-e09071c643eb"
      },
      "source": [
        "nome = 'Italo'\n",
        "\n",
        "professores = ['Marcelo', 'João Henrique', 'Ingrid', 'Luciano']\n",
        "\n",
        "numero = 12.4\n",
        "\n",
        "print(type(nome)) # string\n",
        "print(type(professores)) # list\n",
        "print(type(numero)) # float"
      ],
      "execution_count": 31,
      "outputs": [
        {
          "output_type": "stream",
          "text": [
            "<class 'str'>\n",
            "<class 'list'>\n",
            "<class 'float'>\n"
          ],
          "name": "stdout"
        }
      ]
    },
    {
      "cell_type": "markdown",
      "metadata": {
        "id": "ieeVSEf7vnZ1"
      },
      "source": [
        "## Tratamento de erros"
      ]
    },
    {
      "cell_type": "markdown",
      "metadata": {
        "id": "WwlOe_304g6W"
      },
      "source": [
        "O Python como a maioria das linguagens de programação permite que você capture erros através dos objetos de exceção. Assim podemos tentar corrigir o erro sem a necessidade de interromper a execução do programa ou mesmo mandar uma mensagem de erro que o usuário final possa compreender."
      ]
    },
    {
      "cell_type": "markdown",
      "metadata": {
        "id": "o5fcI52o40l6"
      },
      "source": [
        "try:\r\n",
        "\r\n",
        "  ....\r\n",
        "\r\n",
        "except ObjetoExceção:\r\n",
        "\r\n",
        "  ...."
      ]
    },
    {
      "cell_type": "code",
      "metadata": {
        "id": "Api5hUJQuwXf",
        "colab": {
          "base_uri": "https://localhost:8080/",
          "height": 197
        },
        "outputId": "5d7bb6f2-3a5c-4729-f533-347963e6b6b6"
      },
      "source": [
        "x = 6\r\n",
        "y = 0\r\n",
        "\r\n",
        "z = x/y"
      ],
      "execution_count": 32,
      "outputs": [
        {
          "output_type": "error",
          "ename": "ZeroDivisionError",
          "evalue": "ignored",
          "traceback": [
            "\u001b[0;31m---------------------------------------------------------------------------\u001b[0m",
            "\u001b[0;31mZeroDivisionError\u001b[0m                         Traceback (most recent call last)",
            "\u001b[0;32m<ipython-input-32-f3dff89116f1>\u001b[0m in \u001b[0;36m<module>\u001b[0;34m()\u001b[0m\n\u001b[1;32m      2\u001b[0m \u001b[0my\u001b[0m \u001b[0;34m=\u001b[0m \u001b[0;36m0\u001b[0m\u001b[0;34m\u001b[0m\u001b[0;34m\u001b[0m\u001b[0m\n\u001b[1;32m      3\u001b[0m \u001b[0;34m\u001b[0m\u001b[0m\n\u001b[0;32m----> 4\u001b[0;31m \u001b[0mz\u001b[0m \u001b[0;34m=\u001b[0m \u001b[0mx\u001b[0m\u001b[0;34m/\u001b[0m\u001b[0my\u001b[0m\u001b[0;34m\u001b[0m\u001b[0;34m\u001b[0m\u001b[0m\n\u001b[0m",
            "\u001b[0;31mZeroDivisionError\u001b[0m: division by zero"
          ]
        }
      ]
    },
    {
      "cell_type": "markdown",
      "metadata": {
        "id": "mtUqnMIE5XOf"
      },
      "source": [
        "Tratando o erro:"
      ]
    },
    {
      "cell_type": "code",
      "metadata": {
        "id": "TwZPr1Of5V7g",
        "colab": {
          "base_uri": "https://localhost:8080/"
        },
        "outputId": "8a1a828e-a56e-4c1d-998e-4af51aaf25f1"
      },
      "source": [
        "x = 6\r\n",
        "y = 0\r\n",
        "\r\n",
        "try:\r\n",
        "  z = x/y\r\n",
        "except ZeroDivisionError:\r\n",
        "  print('Erro: divisão por zero')"
      ],
      "execution_count": 33,
      "outputs": [
        {
          "output_type": "stream",
          "text": [
            "Erro: divisão por zero\n"
          ],
          "name": "stdout"
        }
      ]
    },
    {
      "cell_type": "code",
      "metadata": {
        "id": "zUP5tuwV6IMo",
        "colab": {
          "base_uri": "https://localhost:8080/",
          "height": 163
        },
        "outputId": "9b7c04a0-0857-45ed-e4b4-cf328c8d4a53"
      },
      "source": [
        "arq = open('data/arquivo.txt', 'r')"
      ],
      "execution_count": 34,
      "outputs": [
        {
          "output_type": "error",
          "ename": "FileNotFoundError",
          "evalue": "ignored",
          "traceback": [
            "\u001b[0;31m---------------------------------------------------------------------------\u001b[0m",
            "\u001b[0;31mFileNotFoundError\u001b[0m                         Traceback (most recent call last)",
            "\u001b[0;32m<ipython-input-34-cb235dff3fe9>\u001b[0m in \u001b[0;36m<module>\u001b[0;34m()\u001b[0m\n\u001b[0;32m----> 1\u001b[0;31m \u001b[0marq\u001b[0m \u001b[0;34m=\u001b[0m \u001b[0mopen\u001b[0m\u001b[0;34m(\u001b[0m\u001b[0;34m'data/arquivo.txt'\u001b[0m\u001b[0;34m,\u001b[0m \u001b[0;34m'r'\u001b[0m\u001b[0;34m)\u001b[0m\u001b[0;34m\u001b[0m\u001b[0;34m\u001b[0m\u001b[0m\n\u001b[0m",
            "\u001b[0;31mFileNotFoundError\u001b[0m: [Errno 2] No such file or directory: 'data/arquivo.txt'"
          ]
        }
      ]
    },
    {
      "cell_type": "code",
      "metadata": {
        "id": "IO5ulSlA563m",
        "colab": {
          "base_uri": "https://localhost:8080/"
        },
        "outputId": "a097b296-f0be-412e-a1aa-1bb8f7fa261f"
      },
      "source": [
        "try:\r\n",
        "  arq = open('data/arquivo.txt', 'r')\r\n",
        "except FileNotFoundError:\r\n",
        "    print('Erro: arquivo não encontrado')"
      ],
      "execution_count": 35,
      "outputs": [
        {
          "output_type": "stream",
          "text": [
            "Erro: arquivo não encontrado\n"
          ],
          "name": "stdout"
        }
      ]
    },
    {
      "cell_type": "markdown",
      "metadata": {
        "id": "mKaTlFIH7Ujs"
      },
      "source": [
        "## Python Orientado a Objetos"
      ]
    },
    {
      "cell_type": "markdown",
      "metadata": {
        "id": "yXViuSKc7XSK"
      },
      "source": [
        "Os dados específicos do objeto são estruturados juntamente com as funções que são permitidas sobre esses dados"
      ]
    },
    {
      "cell_type": "markdown",
      "metadata": {
        "id": "uGhtC2l78AOF"
      },
      "source": [
        "![image.png](data:image/png;base64,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)"
      ]
    },
    {
      "cell_type": "markdown",
      "metadata": {
        "id": "ZTXNwKTY855P"
      },
      "source": [
        "- Objetos;\r\n",
        "- Classe;\r\n",
        "- Atributos;\r\n",
        "- Métodos."
      ]
    },
    {
      "cell_type": "markdown",
      "metadata": {
        "id": "u8pk-LpOAFew"
      },
      "source": [
        "### Objetivos da POO:\r\n",
        "- Robustez;\r\n",
        "- Adaptabilidade;\r\n",
        "- Reusabilidade.\r\n",
        "\r\n",
        "### Principios da POO:\r\n",
        "- Modularidade;\r\n",
        "- Abstração;\r\n",
        "- Encapsulamento."
      ]
    },
    {
      "cell_type": "code",
      "metadata": {
        "id": "HR-fJJxP7WUs"
      },
      "source": [
        "# Define a classe Produto\r\n",
        "class Produto:\r\n",
        "\r\n",
        " # Construtor da classe Produto\r\n",
        "  def __init__(self, nome, codigo, preco):\r\n",
        "    self.nome = nome\r\n",
        "    self.codigo = codigo\r\n",
        "    self.preco = preco\r\n",
        "\r\n",
        " # Retorna com o nome do produto\r\n",
        "  def obtem_nome(self):\r\n",
        "    return self.nome\r\n",
        "\r\n",
        " # Retorna com o código do produto\r\n",
        "  def obtem_codigo(self):\r\n",
        "    return self.codigo\r\n",
        "\r\n",
        " # Retorna com o preço corrente do produto\r\n",
        "  def obtem_preco(self):\r\n",
        "    return self.preco"
      ],
      "execution_count": 36,
      "outputs": []
    },
    {
      "cell_type": "code",
      "metadata": {
        "id": "q_e8jiVXBk75",
        "colab": {
          "base_uri": "https://localhost:8080/"
        },
        "outputId": "2c4df3e5-fdab-42d8-b751-7d777e3bf4e4"
      },
      "source": [
        "p1 = Produto(\"camisa social\", 112, 45.56)\r\n",
        "p2 = Produto(\"calça jeans\", 113, 98.12)\r\n",
        "\r\n",
        "print(\"Oferta do dia:\", p1.obtem_nome(), '- Codigo:', p1.obtem_codigo())\r\n",
        "print(\"Oferta da semana:\", p2.obtem_nome(), '- Codigo:', p2.obtem_codigo())\r\n",
        "\r\n",
        "print('\\n')\r\n",
        "\r\n",
        "p3 = Produto(\"bermuda cinza\", 122, 72.22)\r\n",
        "p4 = Produto(\"chinelo azul\", 123, 20.02)\r\n",
        "\r\n",
        "print(\"Oferta do dia:\", p3.obtem_nome(), '- Custando: R$', p3.obtem_preco())\r\n",
        "print(\"Oferta da semana:\", p4.obtem_nome(), '- Custando: R$', p4.obtem_preco())"
      ],
      "execution_count": 37,
      "outputs": [
        {
          "output_type": "stream",
          "text": [
            "Oferta do dia: camisa social - Codigo: 112\n",
            "Oferta da semana: calça jeans - Codigo: 113\n",
            "\n",
            "\n",
            "Oferta do dia: bermuda cinza - Custando: R$ 72.22\n",
            "Oferta da semana: chinelo azul - Custando: R$ 20.02\n"
          ],
          "name": "stdout"
        }
      ]
    }
  ]
}